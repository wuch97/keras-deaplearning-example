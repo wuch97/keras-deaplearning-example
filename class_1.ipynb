{
 "cells": [
  {
   "cell_type": "markdown",
   "metadata": {},
   "source": [
    "# 第一节课 使用Keras写一个mlp"
   ]
  },
  {
   "cell_type": "markdown",
   "metadata": {},
   "source": [
    "mlp就是multilayer perceptron，多层感知机。数据集用的是经典的mnist，数字分类问题。\n",
    "\n",
    "首先导入keras的各种模块\n",
    "\n",
    "keras.datasets 里面包含了多种常用数据集，如mnist，cifar10等等，可以实现自动下载和解析等等。\n",
    "\n",
    "keras.models 里面有最核心的模型结构，如顺序模型结构Sequential\n",
    "\n",
    "keras.layers 里面有一些常用的层结构，如全连接层Dense\n",
    "\n",
    "keras.optimizers 里面有一些常用优化函数，如adam等"
   ]
  },
  {
   "cell_type": "code",
   "execution_count": 1,
   "metadata": {},
   "outputs": [
    {
     "name": "stderr",
     "output_type": "stream",
     "text": [
      "Using TensorFlow backend.\n",
      "D:\\Anaconda\\envs\\tensorflow1-8\\lib\\site-packages\\tensorflow\\python\\framework\\dtypes.py:519: FutureWarning: Passing (type, 1) or '1type' as a synonym of type is deprecated; in a future version of numpy, it will be understood as (type, (1,)) / '(1,)type'.\n",
      "  _np_qint8 = np.dtype([(\"qint8\", np.int8, 1)])\n",
      "D:\\Anaconda\\envs\\tensorflow1-8\\lib\\site-packages\\tensorflow\\python\\framework\\dtypes.py:520: FutureWarning: Passing (type, 1) or '1type' as a synonym of type is deprecated; in a future version of numpy, it will be understood as (type, (1,)) / '(1,)type'.\n",
      "  _np_quint8 = np.dtype([(\"quint8\", np.uint8, 1)])\n",
      "D:\\Anaconda\\envs\\tensorflow1-8\\lib\\site-packages\\tensorflow\\python\\framework\\dtypes.py:521: FutureWarning: Passing (type, 1) or '1type' as a synonym of type is deprecated; in a future version of numpy, it will be understood as (type, (1,)) / '(1,)type'.\n",
      "  _np_qint16 = np.dtype([(\"qint16\", np.int16, 1)])\n",
      "D:\\Anaconda\\envs\\tensorflow1-8\\lib\\site-packages\\tensorflow\\python\\framework\\dtypes.py:522: FutureWarning: Passing (type, 1) or '1type' as a synonym of type is deprecated; in a future version of numpy, it will be understood as (type, (1,)) / '(1,)type'.\n",
      "  _np_quint16 = np.dtype([(\"quint16\", np.uint16, 1)])\n",
      "D:\\Anaconda\\envs\\tensorflow1-8\\lib\\site-packages\\tensorflow\\python\\framework\\dtypes.py:523: FutureWarning: Passing (type, 1) or '1type' as a synonym of type is deprecated; in a future version of numpy, it will be understood as (type, (1,)) / '(1,)type'.\n",
      "  _np_qint32 = np.dtype([(\"qint32\", np.int32, 1)])\n",
      "D:\\Anaconda\\envs\\tensorflow1-8\\lib\\site-packages\\tensorflow\\python\\framework\\dtypes.py:528: FutureWarning: Passing (type, 1) or '1type' as a synonym of type is deprecated; in a future version of numpy, it will be understood as (type, (1,)) / '(1,)type'.\n",
      "  np_resource = np.dtype([(\"resource\", np.ubyte, 1)])\n"
     ]
    }
   ],
   "source": [
    "import keras\n",
    "from keras.datasets import mnist \n",
    "from keras.models import Sequential \n",
    "from keras.layers import Dense,Dropout\n",
    "from keras.optimizers import RMSprop"
   ]
  },
  {
   "cell_type": "markdown",
   "metadata": {},
   "source": [
    "载入mnist数据，第一次会自动下载，之后运行会载入本地文件。"
   ]
  },
  {
   "cell_type": "code",
   "execution_count": 2,
   "metadata": {},
   "outputs": [],
   "source": [
    "(x_train,y_train),(x_test,y_test)=mnist.load_data()"
   ]
  },
  {
   "cell_type": "markdown",
   "metadata": {},
   "source": [
    "↓查看一下数据格式，训练集一共有6万张，大小是28*28,单通道灰度图，测试集是1000张。标签是列向量"
   ]
  },
  {
   "cell_type": "code",
   "execution_count": 3,
   "metadata": {},
   "outputs": [
    {
     "name": "stdout",
     "output_type": "stream",
     "text": [
      "(60000, 28, 28) (60000,)\n",
      "(10000, 28, 28) (10000,)\n"
     ]
    }
   ],
   "source": [
    "print(x_train.shape,y_train.shape)\n",
    "print(x_test.shape,y_test.shape)"
   ]
  },
  {
   "cell_type": "markdown",
   "metadata": {},
   "source": [
    "↓可视化一些图片"
   ]
  },
  {
   "cell_type": "code",
   "execution_count": 4,
   "metadata": {},
   "outputs": [
    {
     "data": {
      "image/png": "[encoded data removed]",
      "text/plain": [
       "<Figure size 432x288 with 1 Axes>"
      ]
     },
     "metadata": {
      "needs_background": "light"
     },
     "output_type": "display_data"
    },
    {
     "data": {
      "image/png": "[encoded data removed]",
      "text/plain": [
       "<Figure size 432x288 with 1 Axes>"
      ]
     },
     "metadata": {
      "needs_background": "light"
     },
     "output_type": "display_data"
    }
   ],
   "source": [
    "import matplotlib.pyplot as plt\n",
    "im = plt.imshow(x_train[0],cmap='gray')\n",
    "plt.show()\n",
    "im2 = plt.imshow(x_train[1],cmap='gray')\n",
    "plt.show()"
   ]
  },
  {
   "cell_type": "markdown",
   "metadata": {},
   "source": [
    "由于mlp的输入是一维向量，所以要转换\n",
    "\n",
    "将每一幅图像都转换为一个长向量，大小为28*28=784"
   ]
  },
  {
   "cell_type": "code",
   "execution_count": 5,
   "metadata": {},
   "outputs": [
    {
     "name": "stdout",
     "output_type": "stream",
     "text": [
      "(60000, 784)\n"
     ]
    }
   ],
   "source": [
    "x_train = x_train.reshape(60000,784)\n",
    "x_test = x_test.reshape(10000,784)\n",
    "# x_train = x_train.astype('float32')\n",
    "# x_train = x_train.astype('float32')\n",
    "print(x_train.shape)"
   ]
  },
  {
   "cell_type": "markdown",
   "metadata": {},
   "source": [
    "归一化，将图像的像素归到0~1"
   ]
  },
  {
   "cell_type": "code",
   "execution_count": 6,
   "metadata": {},
   "outputs": [],
   "source": [
    "x_train = x_train/255\n",
    "x_test = x_test/255"
   ]
  },
  {
   "cell_type": "markdown",
   "metadata": {},
   "source": [
    "将label也转换成One-hot标签，这里直接用keras的预置的一个函数 keras.utils.to_categorical"
   ]
  },
  {
   "cell_type": "code",
   "execution_count": 7,
   "metadata": {},
   "outputs": [
    {
     "name": "stdout",
     "output_type": "stream",
     "text": [
      "[5 0 4 1 9 2 1 3 1 4]\n"
     ]
    }
   ],
   "source": [
    "print(y_train[0:10])# 查看原始标签 0~9"
   ]
  },
  {
   "cell_type": "code",
   "execution_count": 8,
   "metadata": {},
   "outputs": [
    {
     "name": "stdout",
     "output_type": "stream",
     "text": [
      "[[0. 0. 0. 0. 0. 1. 0. 0. 0. 0.]\n",
      " [1. 0. 0. 0. 0. 0. 0. 0. 0. 0.]\n",
      " [0. 0. 0. 0. 1. 0. 0. 0. 0. 0.]\n",
      " [0. 1. 0. 0. 0. 0. 0. 0. 0. 0.]\n",
      " [0. 0. 0. 0. 0. 0. 0. 0. 0. 1.]\n",
      " [0. 0. 1. 0. 0. 0. 0. 0. 0. 0.]\n",
      " [0. 1. 0. 0. 0. 0. 0. 0. 0. 0.]\n",
      " [0. 0. 0. 1. 0. 0. 0. 0. 0. 0.]\n",
      " [0. 1. 0. 0. 0. 0. 0. 0. 0. 0.]\n",
      " [0. 0. 0. 0. 1. 0. 0. 0. 0. 0.]]\n"
     ]
    }
   ],
   "source": [
    "y_train = keras.utils.to_categorical(y_train,10)\n",
    "y_test = keras.utils.to_categorical(y_test,10)\n",
    "\n",
    "print(y_train[0:10])#查看转换完毕的标签"
   ]
  },
  {
   "cell_type": "markdown",
   "metadata": {},
   "source": [
    "开始构建模型，模型分包含两个隐层和一个输出层,都是全连接层，使用Sequential构建\n",
    "\n",
    "其中隐层输出采用ReLU激活函数，Sequential的第一层要指定input_shape，要注意，这里的input_shape 是不包含batch大小的，就只是后面几维"
   ]
  },
  {
   "cell_type": "code",
   "execution_count": 9,
   "metadata": {},
   "outputs": [],
   "source": [
    "model = Sequential()\n",
    "model.add(Dense(512,activation='relu',input_shape=(784,)))\n",
    "model.add(Dropout(0.2))\n",
    "model.add(Dense(512,activation='relu'))\n",
    "model.add(Dropout(0.2))\n",
    "model.add(Dense(10,activation='softmax'))"
   ]
  },
  {
   "cell_type": "code",
   "execution_count": 10,
   "metadata": {},
   "outputs": [
    {
     "name": "stdout",
     "output_type": "stream",
     "text": [
      "_________________________________________________________________\n",
      "Layer (type)                 Output Shape              Param #   \n",
      "=================================================================\n",
      "dense_1 (Dense)              (None, 512)               401920    \n",
      "_________________________________________________________________\n",
      "dropout_1 (Dropout)          (None, 512)               0         \n",
      "_________________________________________________________________\n",
      "dense_2 (Dense)              (None, 512)               262656    \n",
      "_________________________________________________________________\n",
      "dropout_2 (Dropout)          (None, 512)               0         \n",
      "_________________________________________________________________\n",
      "dense_3 (Dense)              (None, 10)                5130      \n",
      "=================================================================\n",
      "Total params: 669,706\n",
      "Trainable params: 669,706\n",
      "Non-trainable params: 0\n",
      "_________________________________________________________________\n"
     ]
    }
   ],
   "source": [
    "model.summary()#这一句用来输出网络结构"
   ]
  },
  {
   "cell_type": "markdown",
   "metadata": {},
   "source": [
    "配置模型，主要包括\n",
    "loss：loss计算方法（损失函数）\n",
    "\n",
    "optimizer：优化函数\n",
    "\n",
    "metrics：指定哪些量需要在训练及测试中关注，一般都会写accuracy"
   ]
  },
  {
   "cell_type": "code",
   "execution_count": 11,
   "metadata": {},
   "outputs": [],
   "source": [
    "model.compile(loss='categorical_crossentropy',\n",
    "             optimizer=RMSprop(),\n",
    "             metrics=['accuracy'])"
   ]
  },
  {
   "cell_type": "markdown",
   "metadata": {},
   "source": [
    "开始训练。这里使用的是model对象的fit方法。前两个参数分别是**完整的训练数据和训练标签**\n",
    "\n",
    "batch_size 表示每一次塞入多少张图片\n",
    "\n",
    "epochs 表示训练几轮\n",
    "\n",
    "verbose 表示用何种方式显示输出信息，0表示不输出，1表示在一直输出更新，2表示每一个epoch才输出一次。\n",
    "\n",
    "validation_data 表示验证集，格式和训练集一样，如果此参数不为空的话，每一个epoch过后就会输出验证集的loss和accuracy"
   ]
  },
  {
   "cell_type": "code",
   "execution_count": 31,
   "metadata": {},
   "outputs": [
    {
     "name": "stdout",
     "output_type": "stream",
     "text": [
      "Train on 60000 samples, validate on 10000 samples\n",
      "Epoch 1/50\n",
      "60000/60000 [==============================] - 4s 60us/step - loss: 0.0501 - acc: 0.9894 - val_loss: 0.1162 - val_acc: 0.9823\n",
      "Epoch 2/50\n",
      "60000/60000 [==============================] - 4s 61us/step - loss: 0.0496 - acc: 0.9902 - val_loss: 0.1322 - val_acc: 0.9818\n",
      "Epoch 3/50\n",
      "60000/60000 [==============================] - 4s 61us/step - loss: 0.0495 - acc: 0.9903 - val_loss: 0.1485 - val_acc: 0.9794\n",
      "Epoch 4/50\n",
      "60000/60000 [==============================] - 4s 63us/step - loss: 0.0458 - acc: 0.9908 - val_loss: 0.1181 - val_acc: 0.9820\n",
      "Epoch 5/50\n",
      "60000/60000 [==============================] - 4s 60us/step - loss: 0.0463 - acc: 0.9913 - val_loss: 0.1630 - val_acc: 0.9802\n",
      "Epoch 6/50\n",
      "60000/60000 [==============================] - 5s 81us/step - loss: 0.0440 - acc: 0.9917 - val_loss: 0.1449 - val_acc: 0.9822\n",
      "Epoch 7/50\n",
      "60000/60000 [==============================] - 4s 62us/step - loss: 0.0426 - acc: 0.9924 - val_loss: 0.1545 - val_acc: 0.9812\n",
      "Epoch 8/50\n",
      "60000/60000 [==============================] - 4s 62us/step - loss: 0.0460 - acc: 0.9919 - val_loss: 0.1580 - val_acc: 0.9792\n",
      "Epoch 9/50\n",
      "60000/60000 [==============================] - 4s 60us/step - loss: 0.0422 - acc: 0.9923 - val_loss: 0.1599 - val_acc: 0.9780\n",
      "Epoch 10/50\n",
      "60000/60000 [==============================] - 4s 61us/step - loss: 0.0456 - acc: 0.9923 - val_loss: 0.1612 - val_acc: 0.9804\n",
      "Epoch 11/50\n",
      "60000/60000 [==============================] - 4s 60us/step - loss: 0.0409 - acc: 0.9927 - val_loss: 0.1463 - val_acc: 0.9822\n",
      "Epoch 12/50\n",
      "60000/60000 [==============================] - 4s 60us/step - loss: 0.0444 - acc: 0.9930 - val_loss: 0.1430 - val_acc: 0.9822\n",
      "Epoch 13/50\n",
      "60000/60000 [==============================] - 4s 60us/step - loss: 0.0409 - acc: 0.9930 - val_loss: 0.1453 - val_acc: 0.9828\n",
      "Epoch 14/50\n",
      "60000/60000 [==============================] - 4s 60us/step - loss: 0.0370 - acc: 0.9932 - val_loss: 0.1605 - val_acc: 0.9812\n",
      "Epoch 15/50\n",
      "60000/60000 [==============================] - 4s 59us/step - loss: 0.0432 - acc: 0.9934 - val_loss: 0.1586 - val_acc: 0.9824\n",
      "Epoch 16/50\n",
      "60000/60000 [==============================] - 4s 60us/step - loss: 0.0431 - acc: 0.9931 - val_loss: 0.1545 - val_acc: 0.9832\n",
      "Epoch 17/50\n",
      "60000/60000 [==============================] - 4s 60us/step - loss: 0.0412 - acc: 0.9938 - val_loss: 0.1512 - val_acc: 0.9824\n",
      "Epoch 18/50\n",
      "60000/60000 [==============================] - 4s 59us/step - loss: 0.0391 - acc: 0.9937 - val_loss: 0.1508 - val_acc: 0.9830\n",
      "Epoch 19/50\n",
      "60000/60000 [==============================] - 4s 60us/step - loss: 0.0385 - acc: 0.9938 - val_loss: 0.1416 - val_acc: 0.9842\n",
      "Epoch 20/50\n",
      "60000/60000 [==============================] - 4s 60us/step - loss: 0.0425 - acc: 0.9938 - val_loss: 0.1392 - val_acc: 0.9841\n",
      "Epoch 21/50\n",
      "60000/60000 [==============================] - 4s 60us/step - loss: 0.0375 - acc: 0.9939 - val_loss: 0.1489 - val_acc: 0.9824\n",
      "Epoch 22/50\n",
      "60000/60000 [==============================] - 4s 59us/step - loss: 0.0384 - acc: 0.9942 - val_loss: 0.1427 - val_acc: 0.9835\n",
      "Epoch 23/50\n",
      "60000/60000 [==============================] - 4s 60us/step - loss: 0.0407 - acc: 0.9939 - val_loss: 0.1547 - val_acc: 0.9838\n",
      "Epoch 24/50\n",
      "60000/60000 [==============================] - 4s 63us/step - loss: 0.0358 - acc: 0.9946 - val_loss: 0.1407 - val_acc: 0.9854\n",
      "Epoch 25/50\n",
      "60000/60000 [==============================] - 4s 60us/step - loss: 0.0356 - acc: 0.9949 - val_loss: 0.1590 - val_acc: 0.9837\n",
      "Epoch 26/50\n",
      "60000/60000 [==============================] - 4s 59us/step - loss: 0.0381 - acc: 0.9944 - val_loss: 0.1610 - val_acc: 0.9828\n",
      "Epoch 27/50\n",
      "60000/60000 [==============================] - 4s 60us/step - loss: 0.0380 - acc: 0.9944 - val_loss: 0.1507 - val_acc: 0.9839\n",
      "Epoch 28/50\n",
      "60000/60000 [==============================] - 4s 61us/step - loss: 0.0395 - acc: 0.9946 - val_loss: 0.1594 - val_acc: 0.9845\n",
      "Epoch 29/50\n",
      "60000/60000 [==============================] - 4s 60us/step - loss: 0.0394 - acc: 0.9943 - val_loss: 0.1570 - val_acc: 0.9830\n",
      "Epoch 30/50\n",
      "60000/60000 [==============================] - 4s 59us/step - loss: 0.0421 - acc: 0.9937 - val_loss: 0.1458 - val_acc: 0.9844\n",
      "Epoch 31/50\n",
      "60000/60000 [==============================] - 4s 61us/step - loss: 0.0365 - acc: 0.9949 - val_loss: 0.1442 - val_acc: 0.9849\n",
      "Epoch 32/50\n",
      "60000/60000 [==============================] - 4s 63us/step - loss: 0.0369 - acc: 0.9947 - val_loss: 0.1575 - val_acc: 0.9834\n",
      "Epoch 33/50\n",
      "60000/60000 [==============================] - 4s 60us/step - loss: 0.0365 - acc: 0.9952 - val_loss: 0.1652 - val_acc: 0.9834\n",
      "Epoch 34/50\n",
      "60000/60000 [==============================] - 4s 60us/step - loss: 0.0416 - acc: 0.9949 - val_loss: 0.1502 - val_acc: 0.9843\n",
      "Epoch 35/50\n",
      "60000/60000 [==============================] - 4s 72us/step - loss: 0.0405 - acc: 0.9949 - val_loss: 0.1651 - val_acc: 0.9836\n",
      "Epoch 36/50\n",
      "60000/60000 [==============================] - 4s 65us/step - loss: 0.0364 - acc: 0.9951 - val_loss: 0.1503 - val_acc: 0.9843\n",
      "Epoch 37/50\n",
      "60000/60000 [==============================] - 5s 84us/step - loss: 0.0354 - acc: 0.9951 - val_loss: 0.1443 - val_acc: 0.9842\n",
      "Epoch 38/50\n",
      "60000/60000 [==============================] - 4s 64us/step - loss: 0.0339 - acc: 0.9955 - val_loss: 0.1582 - val_acc: 0.9846\n",
      "Epoch 39/50\n",
      "60000/60000 [==============================] - 4s 67us/step - loss: 0.0375 - acc: 0.9950 - val_loss: 0.1585 - val_acc: 0.9845\n",
      "Epoch 40/50\n",
      "60000/60000 [==============================] - 5s 78us/step - loss: 0.0379 - acc: 0.9954 - val_loss: 0.1971 - val_acc: 0.9821\n",
      "Epoch 41/50\n",
      "60000/60000 [==============================] - 4s 72us/step - loss: 0.0430 - acc: 0.9944 - val_loss: 0.1708 - val_acc: 0.9837\n",
      "Epoch 42/50\n",
      "60000/60000 [==============================] - 4s 70us/step - loss: 0.0310 - acc: 0.9957 - val_loss: 0.1610 - val_acc: 0.9848\n",
      "Epoch 43/50\n",
      "60000/60000 [==============================] - 4s 69us/step - loss: 0.0314 - acc: 0.9960 - val_loss: 0.1561 - val_acc: 0.9845\n",
      "Epoch 44/50\n",
      "60000/60000 [==============================] - 5s 75us/step - loss: 0.0354 - acc: 0.9953 - val_loss: 0.1802 - val_acc: 0.9826\n",
      "Epoch 45/50\n",
      "60000/60000 [==============================] - 5s 75us/step - loss: 0.0339 - acc: 0.9959 - val_loss: 0.1747 - val_acc: 0.9842\n",
      "Epoch 46/50\n",
      "60000/60000 [==============================] - 5s 82us/step - loss: 0.0344 - acc: 0.9959 - val_loss: 0.1867 - val_acc: 0.9831\n",
      "Epoch 47/50\n",
      "60000/60000 [==============================] - 4s 70us/step - loss: 0.0348 - acc: 0.9957 - val_loss: 0.1872 - val_acc: 0.9828\n",
      "Epoch 48/50\n",
      "60000/60000 [==============================] - 5s 76us/step - loss: 0.0299 - acc: 0.9959 - val_loss: 0.1737 - val_acc: 0.9837\n",
      "Epoch 49/50\n",
      "60000/60000 [==============================] - 6s 97us/step - loss: 0.0325 - acc: 0.9959 - val_loss: 0.1877 - val_acc: 0.9823\n",
      "Epoch 50/50\n",
      "60000/60000 [==============================] - 5s 77us/step - loss: 0.0309 - acc: 0.9961 - val_loss: 0.1642 - val_acc: 0.9845\n"
     ]
    }
   ],
   "source": [
    "history=model.fit(x_train,y_train,batch_size=64,epochs=50,verbose=1,\n",
    "         validation_data=(x_test,y_test))"
   ]
  },
  {
   "cell_type": "markdown",
   "metadata": {},
   "source": [
    "测试结果，输出为loss以及其他之前compile模型时指定过的metrics的值"
   ]
  },
  {
   "cell_type": "code",
   "execution_count": 15,
   "metadata": {},
   "outputs": [
    {
     "name": "stdout",
     "output_type": "stream",
     "text": [
      "10000/10000 [==============================] - 0s 31us/step\n",
      "Test loss: 0.13541722896527325\n",
      "Test accuracy 0.9799\n"
     ]
    }
   ],
   "source": [
    "score = model.evaluate(x_test,y_test,verbose=1)\n",
    "print('Test loss:',score[0])\n",
    "print('Test accuracy',score[1])"
   ]
  },
  {
   "cell_type": "code",
   "execution_count": 37,
   "metadata": {},
   "outputs": [
    {
     "data": {
      "image/png": "[encoded data removed]",
      "text/plain": [
       "<Figure size 576x360 with 1 Axes>"
      ]
     },
     "metadata": {
      "needs_background": "light"
     },
     "output_type": "display_data"
    },
    {
     "data": {
      "image/png": "[encoded data removed]",
      "text/plain": [
       "<Figure size 576x360 with 1 Axes>"
      ]
     },
     "metadata": {
      "needs_background": "light"
     },
     "output_type": "display_data"
    }
   ],
   "source": [
    "import matplotlib as plt\n",
    "import pandas as pd\n",
    "import matplotlib.pyplot as plt\n",
    "def plot_learning_curves(history, label, epcohs, min_value, max_value):\n",
    "    data = {}\n",
    "    data[label] = history.history[label]\n",
    "    data['val_' + label] = history.history['val_' + label]\n",
    "    pd.DataFrame(data).plot(figsize=(8, 5))\n",
    "    plt.grid(True)\n",
    "    plt.axis([0, epochs, min_value, max_value])\n",
    "    plt.show()\n",
    "\n",
    "\n",
    "plot_learning_curves(history,'acc',epochs, 0.9, 1)\n",
    "plot_learning_curves(history,'loss',epochs, 0, 0.25)\n"
   ]
  },
  {
   "cell_type": "markdown",
   "metadata": {},
   "source": [
    "## 总结\n",
    "\n",
    "本文主要写了一个最简单的多层感知机模型，目的是熟悉keras最基本的操作。\n",
    "\n",
    "知识点：\n",
    "\n",
    "1. 学习载入Keras中预置的数据库及数据库数据的基本变换\n",
    "1. Sequential模型的定义，以及如何添加层\n",
    "1. 如何对Dense层及Dropout层进行基本的配置\n",
    "1. 学习使用compile对网络进行配置\n",
    "1. 使用fit方法来对小数据库进行训练，这里的小数据库指的是所有数据可以一次性载入到内存\n",
    "1. 使用evaluate方法来对模型进行效果评估\n",
    "\n",
    "参考：\n",
    "> https://github.com/keras-team/keras/tree/master/examples"
   ]
  },
  {
   "cell_type": "code",
   "execution_count": null,
   "metadata": {
    "collapsed": true,
    "jupyter": {
     "outputs_hidden": true
    }
   },
   "outputs": [],
   "source": []
  }
 ],
 "metadata": {
  "kernelspec": {
   "display_name": "Python [conda env:tensorflow1-8]",
   "language": "python",
   "name": "conda-env-tensorflow1-8-py"
  },
  "language_info": {
   "codemirror_mode": {
    "name": "ipython",
    "version": 3
   },
   "file_extension": ".py",
   "mimetype": "text/x-python",
   "name": "python",
   "nbconvert_exporter": "python",
   "pygments_lexer": "ipython3",
   "version": "3.6.7"
  }
 },
 "nbformat": 4,
 "nbformat_minor": 4
}
